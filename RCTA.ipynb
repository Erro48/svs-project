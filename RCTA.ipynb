{
 "cells": [
  {
   "cell_type": "markdown",
   "metadata": {},
   "source": [
    "## Initial initialization"
   ]
  },
  {
   "cell_type": "code",
   "execution_count": 2,
   "metadata": {},
   "outputs": [
    {
     "data": {
      "text/plain": [
       "<carla.libcarla.Map at 0x1ee5de27210>"
      ]
     },
     "execution_count": 2,
     "metadata": {},
     "output_type": "execute_result"
    }
   ],
   "source": [
    "import carla, time, pygame, math, random, cv2\n",
    "import numpy as np\n",
    "\n",
    "client = carla.Client('localhost', 2000)\n",
    "client.set_timeout(10.0)\n",
    "\n",
    "world = client.load_world(\"Town04\")\n",
    "spectator = world.get_spectator()\n",
    "\n",
    "# Functions\n",
    "def move_spectator_to(transform, distance=1.0, x=0, y=0, z=4, yaw=0, pitch=-30, roll=0):\n",
    "    back_location = transform.location - transform.get_forward_vector() * distance\n",
    "    \n",
    "    back_location.x += x\n",
    "    back_location.y += y\n",
    "    back_location.z += z\n",
    "    transform.rotation.yaw += yaw\n",
    "    transform.rotation.pitch = pitch\n",
    "    transform.rotation.roll = roll\n",
    "    \n",
    "    spectator_transform = carla.Transform(back_location, transform.rotation)\n",
    "    \n",
    "    spectator.set_transform(spectator_transform)\n",
    "\n",
    "def spawn_vehicle(vehicle_index=0, spawn_index=0, pattern='vehicle.*'):\n",
    "    blueprint_library = world.get_blueprint_library()\n",
    "    vehicle_bp = blueprint_library.filter(pattern)[vehicle_index]\n",
    "    spawn_point = world.get_map().get_spawn_points()[spawn_index]\n",
    "    vehicle = world.spawn_actor(vehicle_bp, spawn_point)\n",
    "    return vehicle\n",
    "\n",
    "def draw_on_screen(world, transform, content='O', color=carla.Color(0, 255, 0), life_time=20):\n",
    "    world.debug.draw_string(transform.location, content, color=color, life_time=life_time)\n",
    "\n",
    "def spawn_camera(attach_to=None, transform=carla.Transform(carla.Location(x=1.2, z=1.2), carla.Rotation(pitch=-10)), width=800, height=600):\n",
    "    camera_bp = world.get_blueprint_library().find('sensor.camera.rgb')\n",
    "    camera_bp.set_attribute('image_size_x', str(width))\n",
    "    camera_bp.set_attribute('image_size_y', str(height))\n",
    "    camera = world.spawn_actor(camera_bp, transform, attach_to=attach_to)\n",
    "    return camera\n",
    "\n",
    "def spawn_radar(attach_to=None,\n",
    "                transform=carla.Transform(carla.Location(x=2.0, z=1.5), carla.Rotation(pitch=5)),\n",
    "                width=800, height=600,\n",
    "                horizontal_fov=30,\n",
    "                vertical_fov=20,\n",
    "                range=100,\n",
    "                sensor_tick=0,\n",
    "                points_per_second=1500):\n",
    "    \n",
    "    radar_bp = world.get_blueprint_library().find('sensor.other.radar')\n",
    "    radar_bp.set_attribute('horizontal_fov', str(horizontal_fov))\n",
    "    radar_bp.set_attribute('vertical_fov', str(vertical_fov))\n",
    "    radar_bp.set_attribute('range', str(range))\n",
    "    radar_bp.set_attribute('sensor_tick', str(sensor_tick))\n",
    "    radar_bp.set_attribute('points_per_second', str(points_per_second))\n",
    "    radar = world.spawn_actor(radar_bp, transform, attach_to=attach_to)\n",
    "    return radar\n",
    "\n",
    "map = world.get_map()\n",
    "map"
   ]
  },
  {
   "cell_type": "markdown",
   "metadata": {},
   "source": [
    "Constants used in the following scripts."
   ]
  },
  {
   "cell_type": "code",
   "execution_count": 3,
   "metadata": {},
   "outputs": [],
   "source": [
    "EGO_VEHICLE_INITIAL_LOCATION = carla.Location(x=280, y=-207.5, z=0.1) # z=0.1 used to make the car not clip with the ground\n",
    "EGO_VEHICLE_INITIAL_ROTATION = carla.Rotation(yaw=180)"
   ]
  },
  {
   "cell_type": "markdown",
   "metadata": {},
   "source": [
    "### Mqtt initialization"
   ]
  },
  {
   "cell_type": "code",
   "execution_count": 41,
   "metadata": {},
   "outputs": [],
   "source": [
    "MQTT_BROKER = \"broker.hivemq.com\"\n",
    "MQTT_PORT = 1883\n",
    "MQTT_TOPIC = \"svs-rcta\""
   ]
  },
  {
   "cell_type": "code",
   "execution_count": 45,
   "metadata": {},
   "outputs": [
    {
     "data": {
      "text/plain": [
       "<MQTTErrorCode.MQTT_ERR_SUCCESS: 0>"
      ]
     },
     "execution_count": 45,
     "metadata": {},
     "output_type": "execute_result"
    },
    {
     "name": "stdout",
     "output_type": "stream",
     "text": [
      "Connected with result code Success\n"
     ]
    }
   ],
   "source": [
    "import paho.mqtt.client as mqtt\n",
    "\n",
    "# The callback for when the client receives a CONNACK response from the server.\n",
    "def on_connect(client, userdata, flags, reason_code, properties):\n",
    "    print(f\"Connected with result code {reason_code}\")\n",
    "    # Subscribing in on_connect() means that if we lose the connection and\n",
    "    # reconnect then subscriptions will be renewed.\n",
    "    client.subscribe(MQTT_TOPIC + \"/#\")\n",
    "\n",
    "def on_publish(client, userdata, mid, reason_code, properties):\n",
    "    # reason_code and properties will only be present in MQTTv5. It's always unset in MQTTv3\n",
    "    try:\n",
    "        userdata.remove(mid)\n",
    "    except KeyError:\n",
    "        print(\"on_publish() is called with a mid not present in unacked_publish\")\n",
    "        print(\"This is due to an unavoidable race-condition:\")\n",
    "        print(\"* publish() return the mid of the message sent.\")\n",
    "        print(\"* mid from publish() is added to unacked_publish by the main thread\")\n",
    "        print(\"* on_publish() is called by the loop_start thread\")\n",
    "        print(\"While unlikely (because on_publish() will be called after a network round-trip),\")\n",
    "        print(\" this is a race-condition that COULD happen\")\n",
    "        print(\"\")\n",
    "        print(\"The best solution to avoid race-condition is using the msg_info from publish()\")\n",
    "        print(\"We could also try using a list of acknowledged mid rather than removing from pending list,\")\n",
    "        print(\"but remember that mid could be re-used !\")\n",
    "\n",
    "unacked_publish = set()\n",
    "mqttc = mqtt.Client(mqtt.CallbackAPIVersion.VERSION2)\n",
    "mqttc.on_publish = on_publish\n",
    "mqttc.user_data_set(unacked_publish)\n",
    "\n",
    "mqttc.on_connect = on_connect\n",
    "\n",
    "mqttc.connect(MQTT_BROKER, MQTT_PORT, 60)\n",
    "mqttc.loop_start()\n"
   ]
  },
  {
   "cell_type": "code",
   "execution_count": 47,
   "metadata": {},
   "outputs": [],
   "source": [
    "def mqtt_publish(message, topic=MQTT_TOPIC, qos=1):\n",
    "    msg_info = mqttc.publish(topic, message, qos=qos)\n",
    "    unacked_publish.add(msg_info.mid)"
   ]
  },
  {
   "cell_type": "markdown",
   "metadata": {},
   "source": [
    "## Spawn ego vehicle"
   ]
  },
  {
   "cell_type": "markdown",
   "metadata": {},
   "source": [
    "Spawn the ego vehicle in a parking slot, with the spectator facing the back of the vehicle."
   ]
  },
  {
   "cell_type": "markdown",
   "metadata": {},
   "source": [
    "List of interesting vehicles:\n",
    "- `vehicle.mitsubishi.fusorosa`\n",
    "- `vehicle.carlamotors.carlacola`"
   ]
  },
  {
   "cell_type": "code",
   "execution_count": 51,
   "metadata": {},
   "outputs": [],
   "source": [
    "def spawn_obstacle_vehicles(\n",
    "    locations,\n",
    "    rotations,\n",
    "    patterns=[]\n",
    "):\n",
    "    \"\"\"\n",
    "    Spawns a set of vehicles, in the given positions.\n",
    "\n",
    "    Parameters\n",
    "    ---\n",
    "    locations: list<carla.Location>\n",
    "        `carla.Location`s where to place the obstacles.\n",
    "    rotations: list<carla.Rotation>\n",
    "        `carla.Rotation`'s to give to the obstacles.\n",
    "    patterns: list<String>, optional\n",
    "        List of patterns used to select which vehicle to spawn.\n",
    "        If you want to specify the pattern for some obstacles, set as `None` the patterns you don't want to specify.\n",
    "        E.g. given 3 obstacles, you only want to specify the pattern of the 2nd: patterns = [ None, \"vehicle.mitsubishi.fusorosa\", None ]\n",
    "\n",
    "    Return\n",
    "    ---\n",
    "    obstacles: list<CarlaVehicle>\n",
    "        List with all the spawned vehicles.\n",
    "    \"\"\"\n",
    "    \n",
    "    if len(locations) != len(rotations):\n",
    "        return None\n",
    "\n",
    "    obstacles = []\n",
    "    obstacles_number = len(locations)\n",
    "\n",
    "    if len(patterns) < obstacles_number:            \n",
    "        patterns = [ None if i >= len(patterns) or patterns[i] is None else patterns[i] for i in range(obstacles_number)]\n",
    "    \n",
    "    for i in range(obstacles_number):\n",
    "        obstacle = spawn_vehicle(pattern=\"vehicle.*\" if patterns[i] == None else patterns[i])\n",
    "        obstacle_transform = obstacle.get_transform()\n",
    "\n",
    "        x, y, z = locations[i]\n",
    "        pitch, roll, yaw = rotations[i]\n",
    "\n",
    "        # Check if variables are None\n",
    "        x = x or obstacle_transform.location.x\n",
    "        y = y or obstacle_transform.location.y\n",
    "        z = z or obstacle_transform.location.z\n",
    "        \n",
    "        pitch = pitch or obstacle_transform.rotation.pitch\n",
    "        roll = roll or obstacle_transform.rotation.roll\n",
    "        yaw = yaw or obstacle_transform.rotation.yaw\n",
    "        \n",
    "        obstacle_transform.location = carla.Location(x=x, y=y, z=z)\n",
    "        obstacle_transform.rotation = carla.Rotation(pitch=pitch, roll=roll, yaw=yaw)\n",
    "        obstacle.set_transform(obstacle_transform)\n",
    "\n",
    "        obstacles.append(obstacle)\n",
    "\n",
    "    return obstacles"
   ]
  },
  {
   "cell_type": "code",
   "execution_count": 5,
   "metadata": {},
   "outputs": [],
   "source": [
    "def spawn_rear_radars(attach_to, horizontal_fov=120, range=40):\n",
    "    \"\"\"\n",
    "    Spawns two radars and set them in the rear of the given vehicle.\n",
    "    \"\"\"\n",
    "\n",
    "    x = -1.8\n",
    "    y = 0.75\n",
    "    z = 0.5\n",
    "    pitch = 3\n",
    "    yaw = 90 + horizontal_fov // 2\n",
    "    right_radar_location = carla.Location(x=x, y=y, z=z)\n",
    "    right_radar_rotation = carla.Rotation(pitch=pitch, yaw=yaw)\n",
    "    left_radar_location = carla.Location(x=x, y=-y, z=z)\n",
    "    left_radar_rotation = carla.Rotation(pitch=pitch, yaw=-yaw)\n",
    "    \n",
    "    right_radar = spawn_radar(attach_to=attach_to,\n",
    "                          transform=carla.Transform(right_radar_location, right_radar_rotation),\n",
    "                          horizontal_fov=horizontal_fov,\n",
    "                          range=range)\n",
    "    left_radar = spawn_radar(attach_to=attach_to,\n",
    "                         transform=carla.Transform(left_radar_location, left_radar_rotation),\n",
    "                         horizontal_fov=horizontal_fov,\n",
    "                         range=range)\n",
    "    return left_radar, right_radar\n",
    "    "
   ]
  },
  {
   "cell_type": "code",
   "execution_count": 48,
   "metadata": {},
   "outputs": [],
   "source": [
    "def draw_radar_points(\n",
    "    location,\n",
    "    size=0.075,\n",
    "    life_time=0.06,\n",
    "    persistent_lines=False,\n",
    "    color=carla.Color(255, 255, 255)\n",
    "):\n",
    "    \"\"\"\n",
    "    Draws a set of point on the view, based on the locations given.\n",
    "    \"\"\"\n",
    "    \n",
    "    global world\n",
    "    world.debug.draw_point(\n",
    "        location=location,\n",
    "        size=size,\n",
    "        life_time=life_time,\n",
    "        persistent_lines=persistent_lines,\n",
    "        color=color\n",
    "    )\n",
    "\n",
    "def radar_callback(radar_data, draw_radar=True, radar_point_color=carla.Color(2, 0, 255)):\n",
    "    global reverse\n",
    "# def radar_callback(radar_data):\n",
    "    if not reverse:\n",
    "        return\n",
    "    # velocity_range = 7.5 # m/s\n",
    "    velocity_range = 0.8\n",
    "    current_rot = radar_data.transform.rotation\n",
    "    for detect in radar_data:\n",
    "        azi = math.degrees(detect.azimuth)\n",
    "        alt = math.degrees(detect.altitude)\n",
    "        # The 0.25 adjusts a bit the distance so the dots can\n",
    "        # be properly seen\n",
    "        fw_vec = carla.Vector3D(x=detect.depth - 0.25)\n",
    "        carla.Transform(\n",
    "            carla.Location(),\n",
    "            carla.Rotation(\n",
    "                pitch=current_rot.pitch + alt,\n",
    "                yaw=current_rot.yaw + azi,\n",
    "                roll=current_rot.roll)).transform(fw_vec)\n",
    "\n",
    "        def clamp(min_v, max_v, value):\n",
    "            return max(min_v, min(value, max_v))\n",
    "\n",
    "        # detection\n",
    "        detection_threshold = 3 # meter\n",
    "        if detect.depth < detection_threshold:\n",
    "\n",
    "            # draw detected points\n",
    "            norm_velocity = detect.velocity / velocity_range # range [-1, 1]\n",
    "            r = int(clamp(0.0, 1.0, 1.0 - norm_velocity) * 255.0)\n",
    "            g = int(clamp(0.0, 1.0, 1.0 - abs(norm_velocity)) * 255.0)\n",
    "            b = int(abs(clamp(- 1.0, 0.0, - 1.0 - norm_velocity)) * 255.0)\n",
    "\n",
    "            if norm_velocity < 0:\n",
    "                mqtt_publish(\"Warning from carla\")\n",
    "                \n",
    "                world.debug.draw_point(\n",
    "                    radar_data.transform.location + fw_vec,\n",
    "                    size=0.075,\n",
    "                    life_time=0.06,\n",
    "                    persistent_lines=False,\n",
    "                    color=carla.Color(r, g, b))\n",
    "\n",
    "        # draw radars\n",
    "        world.debug.draw_point(radar_data.transform.location,\n",
    "                            size=0.075,\n",
    "                                life_time=0.06,\n",
    "                                persistent_lines=False,\n",
    "                                color=carla.Color(2, 0, 255))"
   ]
  },
  {
   "cell_type": "code",
   "execution_count": 7,
   "metadata": {},
   "outputs": [],
   "source": [
    "def move_spectator_relative_to_vehicle(vehicle, location_offset, rotation):\n",
    "    \"\"\"\n",
    "    Moves the spectator, using coordinates relative to a vehicle.\n",
    "\n",
    "    Parameters\n",
    "    ---\n",
    "    vehicle:\n",
    "        Starting vehicle.\n",
    "    location_offset: carla.Location\n",
    "        Offset used to place the camera, relative to the vehicle.\n",
    "        The camera position is calculated adding the offset to the vehicle position.\n",
    "    rotation: carla.Rotation\n",
    "        Absolute rotation.\n",
    "    \"\"\"\n",
    "    \n",
    "    rear_camera_transform = vehicle.get_transform()\n",
    "    rear_camera_transform.location = rear_camera_transform.location + location_offset\n",
    "    rear_camera_transform.rotation = rotation\n",
    "    move_spectator_to(rear_camera_transform)"
   ]
  },
  {
   "cell_type": "code",
   "execution_count": 50,
   "metadata": {},
   "outputs": [
    {
     "name": "stdout",
     "output_type": "stream",
     "text": [
      "Key pressed: r\n",
      "Key pressed: left meta\n",
      "Key pressed: left ctrl\n",
      "Key pressed: q\n"
     ]
    }
   ],
   "source": [
    "pygame.init()\n",
    "screen = pygame.display.set_mode((200, 100))\n",
    "reverse = False\n",
    "obstacles_enabled = False\n",
    "\n",
    "if obstacles_enabled:\n",
    "    obstacles = spawn_obstacle_vehicles(\n",
    "        [(286, -202.5, 0.1), (282, -210.5, 0.1)],\n",
    "        [(None, None, 90), (None, None, 180)],\n",
    "        patterns=[\"vehicle.mitsubishi.fusorosa\", \"vehicle.carlamotors.carlacola\"]\n",
    "    )\n",
    "\n",
    "vehicle = spawn_vehicle()\n",
    "left_radar, right_radar = spawn_rear_radars(attach_to=vehicle)\n",
    "\n",
    "points = np.zeros((600, 800, 4), dtype=np.uint8)\n",
    "\n",
    "right_radar.listen(lambda image: radar_callback(image))\n",
    "left_radar.listen(lambda image: radar_callback(image))\n",
    "\n",
    "# rear_camera = spawn_camera(attach_to=vehicle, transform=carla.Transform(carla.Location(x=3, z=4), carla.Rotation(pitch=-20, yaw=180)), width=window_size[0], height=window_size[1])\n",
    "\n",
    "# Set the vehicle position\n",
    "vehicle_transform = vehicle.get_transform()\n",
    "vehicle_transform.location = EGO_VEHICLE_INITIAL_LOCATION\n",
    "vehicle_transform.rotation = EGO_VEHICLE_INITIAL_ROTATION\n",
    "vehicle.set_transform(vehicle_transform)\n",
    "\n",
    "time.sleep(0.2)\n",
    "\n",
    "move_spectator_relative_to_vehicle(vehicle, carla.Location(x=1, y=0, z=5), carla.Rotation(yaw=0))\n",
    "\n",
    "running = True\n",
    "\n",
    "try:\n",
    "    while running:\n",
    "        for event in pygame.event.get():\n",
    "            if event.type == pygame.KEYDOWN:\n",
    "                key = event.key\n",
    "                print(f\"Key pressed: {pygame.key.name(key)}\")\n",
    "                if key == pygame.QUIT or key == pygame.K_ESCAPE or key == pygame.K_q:\n",
    "                    running = False\n",
    "                elif key == pygame.K_r:\n",
    "                    reverse = not reverse\n",
    "                    control = carla.VehicleControl(reverse=reverse)\n",
    "                    vehicle.apply_control(control)\n",
    "                elif key == pygame.K_w:\n",
    "                    print(\"Going \" + (\"backward\" if reverse else \"foreward\"))\n",
    "                    control = carla.VehicleControl(throttle=0.4, reverse=reverse)\n",
    "                    vehicle.apply_control(control)\n",
    "                elif key == pygame.K_s:\n",
    "                    control = carla.VehicleControl(throttle=0, brake=1)\n",
    "                    vehicle.apply_control(control)\n",
    "        world.tick()\n",
    "        pygame.display.flip()\n",
    "finally:\n",
    "    pygame.quit()\n",
    "    right_radar.destroy()\n",
    "    left_radar.destroy()\n",
    "    vehicle.destroy()\n",
    "    if obstacles_enabled:\n",
    "        for obstacle in obstacles:\n",
    "            obstacle.destroy()\n"
   ]
  },
  {
   "cell_type": "code",
   "execution_count": 35,
   "metadata": {},
   "outputs": [],
   "source": [
    "for actor in world.get_actors().filter(\"vehicle.*\"):\n",
    "    actor.destroy()"
   ]
  }
 ],
 "metadata": {
  "kernelspec": {
   "display_name": "Python 3 (ipykernel)",
   "language": "python",
   "name": "python3"
  },
  "language_info": {
   "codemirror_mode": {
    "name": "ipython",
    "version": 3
   },
   "file_extension": ".py",
   "mimetype": "text/x-python",
   "name": "python",
   "nbconvert_exporter": "python",
   "pygments_lexer": "ipython3",
   "version": "3.7.12"
  }
 },
 "nbformat": 4,
 "nbformat_minor": 4
}
