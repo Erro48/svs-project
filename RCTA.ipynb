{
 "cells": [
  {
   "cell_type": "code",
   "execution_count": 2,
   "metadata": {},
   "outputs": [
    {
     "data": {
      "text/plain": [
       "<carla.libcarla.Map at 0x286ed13f3f0>"
      ]
     },
     "execution_count": 2,
     "metadata": {},
     "output_type": "execute_result"
    }
   ],
   "source": [
    "import carla, time, pygame, math, random, cv2\n",
    "import numpy as np\n",
    "\n",
    "client = carla.Client('localhost', 2000)\n",
    "client.set_timeout(10.0)\n",
    "\n",
    "world = client.load_world(\"Town04\")\n",
    "spectator = world.get_spectator()\n",
    "\n",
    "# Functions\n",
    "def move_spectator_to(transform, distance=1.0, x=0, y=0, z=4, yaw=0, pitch=-30, roll=0):\n",
    "    back_location = transform.location - transform.get_forward_vector() * distance\n",
    "    \n",
    "    back_location.x += x\n",
    "    back_location.y += y\n",
    "    back_location.z += z\n",
    "    transform.rotation.yaw += yaw\n",
    "    transform.rotation.pitch = pitch\n",
    "    transform.rotation.roll = roll\n",
    "    \n",
    "    spectator_transform = carla.Transform(back_location, transform.rotation)\n",
    "    \n",
    "    spectator.set_transform(spectator_transform)\n",
    "\n",
    "def spawn_vehicle(vehicle_index=0, spawn_index=0, pattern='vehicle.*'):\n",
    "    blueprint_library = world.get_blueprint_library()\n",
    "    vehicle_bp = blueprint_library.filter(pattern)[vehicle_index]\n",
    "    spawn_point = world.get_map().get_spawn_points()[spawn_index]\n",
    "    vehicle = world.spawn_actor(vehicle_bp, spawn_point)\n",
    "    return vehicle\n",
    "\n",
    "def draw_on_screen(world, transform, content='O', color=carla.Color(0, 255, 0), life_time=20):\n",
    "    world.debug.draw_string(transform.location, content, color=color, life_time=life_time)\n",
    "\n",
    "def spawn_camera(attach_to=None, transform=carla.Transform(carla.Location(x=1.2, z=1.2), carla.Rotation(pitch=-10)), width=800, height=600):\n",
    "    camera_bp = world.get_blueprint_library().find('sensor.camera.rgb')\n",
    "    camera_bp.set_attribute('image_size_x', str(width))\n",
    "    camera_bp.set_attribute('image_size_y', str(height))\n",
    "    camera = world.spawn_actor(camera_bp, transform, attach_to=attach_to)\n",
    "    return camera\n",
    "\n",
    "map = world.get_map()\n",
    "map"
   ]
  },
  {
   "cell_type": "markdown",
   "metadata": {},
   "source": [
    "Constants used in the following scripts."
   ]
  },
  {
   "cell_type": "code",
   "execution_count": 56,
   "metadata": {},
   "outputs": [],
   "source": [
    "EGO_VEHICLE_INITIAL_LOCATION = carla.Location(x=280, y=-207.5, z=0.1) # z=0.1 used to make the car not clip with the ground\n",
    "EGO_VEHICLE_INITIAL_ROTATION = carla.Rotation(yaw=180)\n",
    "\n",
    "TRAFFIC_VECHICLE_RIGHT_LANE_POSITION = (285, -227.5)"
   ]
  },
  {
   "cell_type": "markdown",
   "metadata": {},
   "source": [
    "Spawn the ego vehicle in a parking slot, with the spectator facing the back of the vehicle."
   ]
  },
  {
   "cell_type": "code",
   "execution_count": 17,
   "metadata": {},
   "outputs": [
    {
     "name": "stdout",
     "output_type": "stream",
     "text": [
      "Location(x=225.252365, y=-364.109375, z=-0.007136)\n",
      "Transform(Location(x=225.252029, y=-364.109375, z=0.281942), Rotation(pitch=0.000000, yaw=-0.295319, roll=0.000000))\n"
     ]
    }
   ],
   "source": [
    "for actor in world.get_actors().filter(\"vehicle.*\"):\n",
    "    actor.destroy()\n",
    "\n",
    "ego_vehicle = spawn_vehicle()\n",
    "time.sleep(1)\n",
    "print(ego_vehicle.get_transform().location)\n",
    "print(world.get_map().get_spawn_points()[0])\n",
    "\n",
    "# Set the vehicle position\n",
    "ego_vehicle_transform = ego_vehicle.get_transform()\n",
    "ego_vehicle_transform.location = EGO_VEHICLE_INITIAL_LOCATION\n",
    "ego_vehicle_transform.rotation = EGO_VEHICLE_INITIAL_ROTATION\n",
    "ego_vehicle.set_transform(ego_vehicle_transform)\n",
    "\n",
    "# Set the spectator camera\n",
    "spectator_transform = ego_vehicle.get_transform()\n",
    "spectator_transform.location = ego_vehicle_transform.location + carla.Location(x=2)\n",
    "spectator_transform.rotation = carla.Rotation(yaw=180)\n",
    "move_spectator_to(spectator_transform)"
   ]
  },
  {
   "cell_type": "markdown",
   "metadata": {},
   "source": [
    "Spawn some traffic vehicles"
   ]
  },
  {
   "cell_type": "code",
   "execution_count": 57,
   "metadata": {},
   "outputs": [],
   "source": [
    "def spawn_vehicle_right_lane(\n",
    "        x=285, y=-227.5,\n",
    "        time_to_live=4,\n",
    "        spawn_delay=0,\n",
    "        start_delay=0):\n",
    "    time.sleep(spawn_delay)\n",
    "    traffic_vehicle = spawn_vehicle()\n",
    "\n",
    "    traffic_vehicle_transform = traffic_vehicle.get_transform()\n",
    "    traffic_vehicle_transform.location = carla.Location(x=x, y=y)\n",
    "    traffic_vehicle_transform.rotation = carla.Rotation(yaw=92) # with yaw=90 it's not aligned with the parking slots\n",
    "    traffic_vehicle.set_transform(traffic_vehicle_transform)\n",
    "\n",
    "    time.sleep(start_delay)\n",
    "    traffic_vehicle.apply_control(carla.VehicleControl(throttle=1))\n",
    "\n",
    "    time.sleep(time_to_live)\n",
    "    traffic_vehicle.destroy()\n",
    "\n",
    "spawn_vehicle_right_lane()"
   ]
  },
  {
   "cell_type": "markdown",
   "metadata": {},
   "source": [
    "Spawn a pedestrian"
   ]
  },
  {
   "cell_type": "code",
   "execution_count": 55,
   "metadata": {},
   "outputs": [],
   "source": [
    "for actor in world.get_actors().filter(\"walker.pedestrian.*\"):\n",
    "    actor.destroy()\n",
    "def spawn_pedestrians_right_lane(\n",
    "        x=283.5,\n",
    "        y=-213,\n",
    "        time_to_live=10,\n",
    "        spawn_delay=0,\n",
    "        start_delay=0):\n",
    "    time.sleep(spawn_delay)\n",
    "\n",
    "    blueprint_library = world.get_blueprint_library()\n",
    "    walker_bp = random.choice(blueprint_library.filter('walker.pedestrian.*'))\n",
    "    spawn_points = world.get_map().get_spawn_points()\n",
    "    spawn_point = random.choice(spawn_points)\n",
    "    pedestrian = world.spawn_actor(walker_bp, spawn_point)\n",
    "\n",
    "    pedestrian_transform = pedestrian.get_transform()\n",
    "    pedestrian_transform.location = carla.Location(x=x, y=y)\n",
    "    pedestrian_transform.rotation = carla.Rotation(yaw=-92)\n",
    "    pedestrian.set_transform(pedestrian_transform)\n",
    "\n",
    "    time.sleep(start_delay)\n",
    "    pedestrian.apply_control(carla.WalkerControl(direction=carla.Vector3D(0, 1, 0), speed=1))\n",
    "\n",
    "    time.sleep(time_to_live)\n",
    "    pedestrian.destroy()\n",
    "\n",
    "spawn_pedestrians_right_lane()\n",
    "\n",
    "# while True:\n",
    "#     move_spectator_to(pedestrian.get_transform())\n",
    "#     world.tick()\n",
    "#     time.sleep(0.01)\n"
   ]
  },
  {
   "cell_type": "code",
   "execution_count": null,
   "metadata": {},
   "outputs": [],
   "source": [
    "ego_vehicle = spawn_vehicle()\n",
    "\n",
    "time.sleep(1)\n",
    "\n",
    "#target_transform = target_vehicle.get_transform()\n",
    "#target_transform.location += carla.Location(x=100)\n",
    "#target_vehicle.set_transform(target_transform)\n",
    "\n",
    "ego_vehicle = spawn_vehicle()\n",
    "ego_vehicle_transform = ego_vehicle.get_transform()\n",
    "ego_vehicle_transform.location = carla.Location(x=283, y=-206)\n",
    "ego_vehicle.set_transform(ego_vehicle_transform)\n",
    "\n",
    "camera = spawn_camera(attach_to=ego_vehicle)\n",
    "\n",
    "video_output = np.zeros((600, 800, 4), dtype=np.uint8)\n",
    "def camera_callback(image):\n",
    "    global video_output\n",
    "    video_output = np.reshape(np.copy(image.raw_data), (image.height, image.width, 4))\n",
    "\n",
    "camera.listen(lambda image: camera_callback(image))\n",
    "\n",
    "# target_vehicle.set_autopilot(True)\n",
    "\n",
    "ego_vehicle.apply_control(carla.VehicleControl(throttle = 1))\n",
    "\n",
    "# target_velocity = carla.Vector3D(x=20) # Set the target velocity to 20 m/s\n",
    "# ego_vehicle.set_target_velocity(target_velocity)\n",
    "\n",
    "cv2.namedWindow('RGB Camera', cv2.WINDOW_AUTOSIZE)\n",
    "\n",
    "running = True\n",
    "\n",
    "try:\n",
    "    while running:\n",
    "        if cv2.waitKey(1) == ord('q'):\n",
    "            running = False\n",
    "            break\n",
    "        cv2.imshow('RGB Camera', video_output)\n",
    "finally:\n",
    "    cv2.destroyAllWindows()\n",
    "    camera.destroy()\n",
    "    ego_vehicle.destroy()\n",
    "    ego_vehicle.destroy()"
   ]
  }
 ],
 "metadata": {
  "kernelspec": {
   "display_name": "carla-env",
   "language": "python",
   "name": "python3"
  },
  "language_info": {
   "codemirror_mode": {
    "name": "ipython",
    "version": 3
   },
   "file_extension": ".py",
   "mimetype": "text/x-python",
   "name": "python",
   "nbconvert_exporter": "python",
   "pygments_lexer": "ipython3",
   "version": "3.7.12"
  }
 },
 "nbformat": 4,
 "nbformat_minor": 2
}
